{
  "nbformat": 4,
  "nbformat_minor": 0,
  "metadata": {
    "colab": {
      "provenance": [],
      "authorship_tag": "ABX9TyOTMQbic53L0v6d5EmzdCIB",
      "include_colab_link": true
    },
    "kernelspec": {
      "name": "python3",
      "display_name": "Python 3"
    },
    "language_info": {
      "name": "python"
    }
  },
  "cells": [
    {
      "cell_type": "markdown",
      "metadata": {
        "id": "view-in-github",
        "colab_type": "text"
      },
      "source": [
        "<a href=\"https://colab.research.google.com/github/Kib3Gabriel/Intro-to-Neural-Network/blob/main/NeuralNetwork.ipynb\" target=\"_parent\"><img src=\"https://colab.research.google.com/assets/colab-badge.svg\" alt=\"Open In Colab\"/></a>"
      ]
    },
    {
      "cell_type": "markdown",
      "source": [
        "## Neural Network:\n",
        "\n",
        "Download dataset Dataset is already splitted into training and testing.\n",
        "Preprocess both train and test dataset\n",
        "Build the model train the model validate the model using test dataset."
      ],
      "metadata": {
        "id": "gAOmru2Ai560"
      }
    },
    {
      "cell_type": "code",
      "source": [
        "%tensorflow_version 2.x\n",
        "\n",
        "import tensorflow as tf\n",
        "from tensorflow import keras\n",
        "\n",
        "import numpy as np\n",
        "import matplotlib.pyplot as plt"
      ],
      "metadata": {
        "colab": {
          "base_uri": "https://localhost:8080/"
        },
        "id": "aypSVneNY_RB",
        "outputId": "1cf92766-99e5-4ff3-b41d-6a9bbae8a6fe"
      },
      "execution_count": null,
      "outputs": [
        {
          "output_type": "stream",
          "name": "stdout",
          "text": [
            "Colab only includes TensorFlow 2.x; %tensorflow_version has no effect.\n"
          ]
        }
      ]
    },
    {
      "cell_type": "code",
      "source": [
        "fashion_mnist = tf.keras.datasets.fashion_mnist   #load dataset\n",
        "\n",
        "(train_images, train_labels), (test_images, test_labels) = fashion_mnist.load_data()    #split into train and test"
      ],
      "metadata": {
        "colab": {
          "base_uri": "https://localhost:8080/"
        },
        "id": "d0htuxgicOyq",
        "outputId": "966defde-6a4b-467b-87dc-e6f6e171206b"
      },
      "execution_count": null,
      "outputs": [
        {
          "output_type": "stream",
          "name": "stdout",
          "text": [
            "Downloading data from https://storage.googleapis.com/tensorflow/tf-keras-datasets/train-labels-idx1-ubyte.gz\n",
            "29515/29515 [==============================] - 0s 0us/step\n",
            "Downloading data from https://storage.googleapis.com/tensorflow/tf-keras-datasets/train-images-idx3-ubyte.gz\n",
            "26421880/26421880 [==============================] - 0s 0us/step\n",
            "Downloading data from https://storage.googleapis.com/tensorflow/tf-keras-datasets/t10k-labels-idx1-ubyte.gz\n",
            "5148/5148 [==============================] - 0s 0us/step\n",
            "Downloading data from https://storage.googleapis.com/tensorflow/tf-keras-datasets/t10k-images-idx3-ubyte.gz\n",
            "4422102/4422102 [==============================] - 0s 0us/step\n"
          ]
        }
      ]
    },
    {
      "cell_type": "code",
      "source": [
        "train_images.shape"
      ],
      "metadata": {
        "colab": {
          "base_uri": "https://localhost:8080/"
        },
        "id": "gWn5hCC5c9Sd",
        "outputId": "6a18c423-c8ad-4ece-a361-aff15edc595b"
      },
      "execution_count": null,
      "outputs": [
        {
          "output_type": "execute_result",
          "data": {
            "text/plain": [
              "(60000, 28, 28)"
            ]
          },
          "metadata": {},
          "execution_count": 4
        }
      ]
    },
    {
      "cell_type": "code",
      "source": [
        "train_images[0,23,23]   #looking at one pixel"
      ],
      "metadata": {
        "colab": {
          "base_uri": "https://localhost:8080/"
        },
        "id": "aiMGSF7odC_3",
        "outputId": "775f32f0-e462-4fbb-c48b-a5f3e73133f1"
      },
      "execution_count": null,
      "outputs": [
        {
          "output_type": "execute_result",
          "data": {
            "text/plain": [
              "194"
            ]
          },
          "metadata": {},
          "execution_count": 5
        }
      ]
    },
    {
      "cell_type": "markdown",
      "source": [
        "gray scale images"
      ],
      "metadata": {
        "id": "r025QK6hfJZ0"
      }
    },
    {
      "cell_type": "code",
      "source": [
        "test_images.shape"
      ],
      "metadata": {
        "colab": {
          "base_uri": "https://localhost:8080/"
        },
        "id": "AdwpX436dO8-",
        "outputId": "e692c182-cdfd-4b0a-8e7a-6e20af331444"
      },
      "execution_count": null,
      "outputs": [
        {
          "output_type": "execute_result",
          "data": {
            "text/plain": [
              "(10000, 28, 28)"
            ]
          },
          "metadata": {},
          "execution_count": 6
        }
      ]
    },
    {
      "cell_type": "code",
      "source": [
        "train_labels[:10]    #first 10 training labels"
      ],
      "metadata": {
        "colab": {
          "base_uri": "https://localhost:8080/"
        },
        "id": "9J0sGG9edpzR",
        "outputId": "70ac8739-2dc6-4472-db74-ff17af084bc1"
      },
      "execution_count": null,
      "outputs": [
        {
          "output_type": "execute_result",
          "data": {
            "text/plain": [
              "array([9, 0, 0, 3, 0, 2, 7, 2, 5, 5], dtype=uint8)"
            ]
          },
          "metadata": {},
          "execution_count": 7
        }
      ]
    },
    {
      "cell_type": "code",
      "source": [
        "class_names = ['T-shirt/top', 'Trouser', 'Pullover', 'Dress', 'Coat',\n",
        "               'Sandal', 'Shirt', 'Sneaker', 'Bag', 'Ankle boot']"
      ],
      "metadata": {
        "id": "SK6QebbFdxHS"
      },
      "execution_count": null,
      "outputs": []
    },
    {
      "cell_type": "code",
      "source": [
        "#Display images\n",
        "\n",
        "plt.figure()\n",
        "plt.imshow(train_images[6])\n",
        "plt.colorbar()\n",
        "plt.grid(False)\n",
        "plt.show()"
      ],
      "metadata": {
        "colab": {
          "base_uri": "https://localhost:8080/",
          "height": 430
        },
        "id": "6OD_VKAKfyWR",
        "outputId": "ea9c2e2d-36ef-49f9-d6af-5e5dd062dda1"
      },
      "execution_count": null,
      "outputs": [
        {
          "output_type": "display_data",
          "data": {
            "text/plain": [
              "<Figure size 640x480 with 2 Axes>"
            ],
            "image/png": "[encoded data removed]"
          },
          "metadata": {}
        }
      ]
    },
    {
      "cell_type": "markdown",
      "source": [
        "# Data Preprocessing"
      ],
      "metadata": {
        "id": "-2zibAG9hbaB"
      }
    },
    {
      "cell_type": "code",
      "source": [
        " #Normalizing\n",
        " train_images = train_images / 255.0\n",
        "\n",
        " test_images = test_images / 255.0"
      ],
      "metadata": {
        "id": "XTpJ1R10f6XY"
      },
      "execution_count": null,
      "outputs": []
    },
    {
      "cell_type": "code",
      "source": [
        "#Building Model\n",
        "\n",
        "model = keras.Sequential([\n",
        "    keras.layers.Flatten(input_shape=(28, 28)),   #input layer    flattens 784 pixels\n",
        "    keras.layers.Dense(128, activation='relu'),   #hidden layer\n",
        "    keras.layers.Dense(10, activation='softmax')   #output layer\n",
        "])"
      ],
      "metadata": {
        "id": "UVEJTLxehvyz"
      },
      "execution_count": null,
      "outputs": []
    },
    {
      "cell_type": "code",
      "source": [
        "#compile the model\n",
        "\n",
        "model.compile(optimizer='adam',\n",
        "              loss='sparse_categorical_crossentropy',       #loss function, how far is the output from the actual expected output\n",
        "              metrics=['accuracy'])"
      ],
      "metadata": {
        "id": "Le_FVzXrnFM7"
      },
      "execution_count": null,
      "outputs": []
    },
    {
      "cell_type": "code",
      "source": [
        "model.fit(train_images, train_labels, epochs = 15, verbose=2)"
      ],
      "metadata": {
        "colab": {
          "base_uri": "https://localhost:8080/"
        },
        "id": "BPqqt2nYnySx",
        "outputId": "79aaef16-d54d-407c-f152-026bdf8ef932"
      },
      "execution_count": null,
      "outputs": [
        {
          "output_type": "stream",
          "name": "stdout",
          "text": [
            "Epoch 1/15\n",
            "1875/1875 - 8s - loss: 0.4972 - accuracy: 0.8244 - 8s/epoch - 4ms/step\n",
            "Epoch 2/15\n",
            "1875/1875 - 6s - loss: 0.3729 - accuracy: 0.8658 - 6s/epoch - 3ms/step\n",
            "Epoch 3/15\n",
            "1875/1875 - 7s - loss: 0.3349 - accuracy: 0.8773 - 7s/epoch - 4ms/step\n",
            "Epoch 4/15\n",
            "1875/1875 - 5s - loss: 0.3105 - accuracy: 0.8864 - 5s/epoch - 3ms/step\n",
            "Epoch 5/15\n",
            "1875/1875 - 7s - loss: 0.2923 - accuracy: 0.8935 - 7s/epoch - 4ms/step\n",
            "Epoch 6/15\n",
            "1875/1875 - 6s - loss: 0.2774 - accuracy: 0.8980 - 6s/epoch - 3ms/step\n",
            "Epoch 7/15\n",
            "1875/1875 - 7s - loss: 0.2659 - accuracy: 0.9008 - 7s/epoch - 4ms/step\n",
            "Epoch 8/15\n",
            "1875/1875 - 6s - loss: 0.2568 - accuracy: 0.9054 - 6s/epoch - 3ms/step\n",
            "Epoch 9/15\n",
            "1875/1875 - 7s - loss: 0.2458 - accuracy: 0.9081 - 7s/epoch - 4ms/step\n",
            "Epoch 10/15\n",
            "1875/1875 - 6s - loss: 0.2392 - accuracy: 0.9113 - 6s/epoch - 3ms/step\n",
            "Epoch 11/15\n",
            "1875/1875 - 7s - loss: 0.2303 - accuracy: 0.9139 - 7s/epoch - 3ms/step\n",
            "Epoch 12/15\n",
            "1875/1875 - 6s - loss: 0.2235 - accuracy: 0.9162 - 6s/epoch - 3ms/step\n",
            "Epoch 13/15\n",
            "1875/1875 - 6s - loss: 0.2177 - accuracy: 0.9184 - 6s/epoch - 3ms/step\n",
            "Epoch 14/15\n",
            "1875/1875 - 7s - loss: 0.2107 - accuracy: 0.9211 - 7s/epoch - 4ms/step\n",
            "Epoch 15/15\n",
            "1875/1875 - 6s - loss: 0.2050 - accuracy: 0.9235 - 6s/epoch - 3ms/step\n"
          ]
        },
        {
          "output_type": "execute_result",
          "data": {
            "text/plain": [
              "<keras.src.callbacks.History at 0x7c2138bd9180>"
            ]
          },
          "metadata": {},
          "execution_count": 13
        }
      ]
    },
    {
      "cell_type": "code",
      "source": [
        "#Testing the model\n",
        "test_loss, test_acc = model.evaluate(test_images, test_labels, verbose=1)   #verbose = how you want to see your testing process. can be 0, 1,2\n",
        "\n",
        "print(\"Test accuracy:\",   test_acc)"
      ],
      "metadata": {
        "colab": {
          "base_uri": "https://localhost:8080/"
        },
        "id": "yG4cSRPin-O1",
        "outputId": "18554476-37bb-42da-acb3-5a0011ff40a2"
      },
      "execution_count": null,
      "outputs": [
        {
          "output_type": "stream",
          "name": "stdout",
          "text": [
            "313/313 [==============================] - 1s 3ms/step - loss: 0.3369 - accuracy: 0.8893\n",
            "Test accuracy: 0.8892999887466431\n"
          ]
        }
      ]
    },
    {
      "cell_type": "code",
      "source": [
        "predictions= model.predict(test_images)\n",
        "\n",
        "print(predictions[0])\n"
      ],
      "metadata": {
        "colab": {
          "base_uri": "https://localhost:8080/"
        },
        "id": "7mwBTitYpL4K",
        "outputId": "0b93af15-b85c-4a26-8a12-5689d908ddfc"
      },
      "execution_count": null,
      "outputs": [
        {
          "output_type": "stream",
          "name": "stdout",
          "text": [
            "313/313 [==============================] - 1s 3ms/step\n",
            "[4.1245458e-11 7.9240932e-15 3.5385369e-12 3.4084108e-14 2.2525881e-12\n",
            " 5.7338144e-05 3.6426789e-10 1.7913166e-03 3.5495166e-11 9.9815142e-01]\n"
          ]
        }
      ]
    },
    {
      "cell_type": "code",
      "source": [
        "#show the class index, of the class with high possibility\n",
        "print(np.argmax(predictions[0]))\n",
        "\n",
        "#Show the class name with the highest prossibility\n",
        "print(class_names[np.argmax(predictions[0])])\n",
        "\n",
        "plt.figure()\n",
        "plt.imshow(test_images[0])\n",
        "plt.colorbar()\n",
        "plt.grid(False)\n",
        "plt.show()\n"
      ],
      "metadata": {
        "colab": {
          "base_uri": "https://localhost:8080/",
          "height": 471
        },
        "id": "UOKcGGi6rQ9i",
        "outputId": "a17e1ef8-0dd9-47e1-9421-ed67d6ca0a2e"
      },
      "execution_count": null,
      "outputs": [
        {
          "output_type": "stream",
          "name": "stdout",
          "text": [
            "9\n",
            "Ankle boot\n"
          ]
        },
        {
          "output_type": "display_data",
          "data": {
            "text/plain": [
              "<Figure size 640x480 with 2 Axes>"
            ],
            "image/png": "[encoded data removed]"
          },
          "metadata": {}
        }
      ]
    },
    {
      "cell_type": "code",
      "source": [
        "#Verifying predictions\n",
        "\n",
        "COLOR ='white'\n",
        "plt.rcParams['text.color'] = COLOR\n",
        "plt.rcParams['axes.labelcolor'] = COLOR\n",
        "\n",
        "def predict(models, image, correct_label):\n",
        "  class_names = ['T-shirt/top', 'Trouser', 'Pullover', 'Dress', 'Coat',\n",
        "               'Sandal', 'Shirt', 'Sneaker', 'Bag', 'Ankle boot']\n",
        "  prediction = model.predict(np.array([image]))\n",
        "  predicted_class =  class_names[np.argmax(prediction)]\n",
        "\n",
        "  print(f\"Predicted: {predicted_class}\")\n",
        "  print(f\"Expected: {class_names[correct_label]}\")\n",
        "\n",
        "\n",
        "  show_image(image, class_names[correct_label], predicted_class)\n",
        "\n",
        "def show_image(img, class_names, predicted_class):\n",
        "  plt.figure()\n",
        "  plt.imshow(img, cmap=plt.cm.binary)\n",
        "  plt.colorbar()\n",
        "  plt.grid(False)\n",
        "  plt.show()\n",
        "\n",
        "def get_number():\n",
        "  while True:\n",
        "    num = input(\"Pick a number: \")\n",
        "    if num.isdigit():\n",
        "      num = int(num)\n",
        "      if 0 < num <=1000:\n",
        "        return int(num)\n",
        "\n",
        "      else:\n",
        "        print(\"Try again ..\")\n",
        "\n",
        "num = get_number()\n",
        "image = test_images[num]    #will find the image in the test dataset\n",
        "label = test_labels[num]    #find the label in the test dataset\n",
        "predict(model, image, label)  #make prediction from the model"
      ],
      "metadata": {
        "colab": {
          "base_uri": "https://localhost:8080/",
          "height": 508
        },
        "id": "GUpiLhT7s5Ja",
        "outputId": "bc77ca88-c97e-4854-df21-bc4ce1a48915"
      },
      "execution_count": null,
      "outputs": [
        {
          "output_type": "stream",
          "name": "stdout",
          "text": [
            "Pick a number: 12\n",
            "1/1 [==============================] - 0s 63ms/step\n",
            "Predicted: Sandal\n",
            "Expected: Sneaker\n"
          ]
        },
        {
          "output_type": "display_data",
          "data": {
            "text/plain": [
              "<Figure size 640x480 with 2 Axes>"
            ],
            "image/png": "[encoded data removed]"
          },
          "metadata": {}
        }
      ]
    },
    {
      "cell_type": "code",
      "source": [
        "10"
      ],
      "metadata": {
        "id": "xAqJ3TDDznmY",
        "colab": {
          "base_uri": "https://localhost:8080/"
        },
        "outputId": "87b990f6-4f94-47d3-a6c9-7605ce1d8ac1"
      },
      "execution_count": null,
      "outputs": [
        {
          "output_type": "execute_result",
          "data": {
            "text/plain": [
              "10"
            ]
          },
          "metadata": {},
          "execution_count": 18
        }
      ]
    }
  ]
}